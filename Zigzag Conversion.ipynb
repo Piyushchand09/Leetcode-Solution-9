{
 "cells": [
  {
   "cell_type": "code",
   "execution_count": null,
   "id": "0b93a1e1",
   "metadata": {
    "vscode": {
     "languageId": "plaintext"
    }
   },
   "outputs": [],
   "source": [
    "# Zigzag Conversion\n",
    "class Solution:\n",
    "    def convert(self , s: str , numRows: int) -> str :\n",
    "        if numRows == 1:\n",
    "            return s\n",
    "        row_map = {row : \"\" for row in range (1, numRows+1)} # This line and the subsequent lines within the convert method were not indented correctly\n",
    "        row = 1\n",
    "        up = True\n",
    "        for letter in s :\n",
    "            row_map[row] += letter\n",
    "            if (row == 1) or ((row < numRows) and up):\n",
    "                row += 1\n",
    "                up = True\n",
    "            else:\n",
    "                row -= 1\n",
    "                up = False\n",
    "        converted =\"\"\n",
    "        for row in range(1, numRows+1):\n",
    "            converted += row_map[row]\n",
    "        return converted"
   ]
  }
 ],
 "metadata": {
  "kernelspec": {
   "display_name": "Python 3 (ipykernel)",
   "language": "python",
   "name": "python3"
  },
  "language_info": {
   "codemirror_mode": {
    "name": "ipython",
    "version": 3
   },
   "file_extension": ".py",
   "mimetype": "text/x-python",
   "name": "python",
   "nbconvert_exporter": "python",
   "pygments_lexer": "ipython3",
   "version": "3.12.4"
  }
 },
 "nbformat": 4,
 "nbformat_minor": 5
}
